{
 "cells": [
  {
   "cell_type": "markdown",
   "metadata": {},
   "source": [
    "## Introduction\n",
    "\n",
    "As in the current culture of NewYork/Manhattan cities there are plenty of food places giving mouth watering tasty food items, but identifying best venue which gives unforgettable experience along with nice ambiance and delicious food is a challenge for any visitor. A business man and passionate cook want to start a India food place(Restaurant) in Manhattan, it will be tough time to find out correct neighborhood in between so many other already established food places with various cuisines symbolizing number countries.\n",
    "\n",
    "There should be a way to identify best venue to start Indian restaurant and provide authentic food with family atmosphere along with a touch Indian culture.\n"
   ]
  },
  {
   "cell_type": "markdown",
   "metadata": {},
   "source": [
    "### Method of Data Collection and Analysis\n",
    "This section presents the datasets used for this study and details of the methods used to perform our analysis. The data for this project is obtained from New York geodata from [5] and the Foursquare location data to solve the business problem discussed above. First, Manhattan borough neighborhood addresses are converted into their equivalent latitude and longitude values retrieved from New York geodata using Pandas library in Python. Table 1 shows the first 5 examples of a dataset comprising of Borough, Neighborhood, Latitude, and Longitude of 80 Manhattan borough neighborhoods."
   ]
  },
  {
   "cell_type": "markdown",
   "metadata": {},
   "source": [
    " |**Borough**|**Neighborhood**|**Latitude**|**Longitude**\n",
    ":-----:|:-----:|:-----:|:-----:|:-----:\n",
    "|0|Manhattan|Marble Hill|40.87655078|-73.91065966|\n",
    "|1|Manhattan|Chinatown|40.71561842|-73.99427936|\n",
    "|2|Manhattan|Washington Heights|40.85190253|-73.93690028|\n",
    "|3|Manhattan|Inwood|40.86768396|-73.92121042|\n",
    "|4|Manhattan|Hamilton Heights|40.82360428|-73.94968792|\n",
    "\n",
    "\n",
    "Using the Folium library, Figure 1 shows the visualization of the 40 neighborhoods in Manhattan borough, New York City represented by the blue circles.\n",
    "\n",
    "\n",
    "\n",
    "<img src=\"ManhattanNeighbourHoods.png\" />\n",
    "<center> Figure 1: Map showing Manhattan Neighborhoods </center>\n",
    "\n",
    "Then, the Foursquare API is used to explore neighborhoods in Manhattan borough, New York City. Using the explore function, the most common venue categories within a radius of 500 meters is extracted for each Manhattan neighborhood and the number of returned venues by Foursquare API is limited to 100. Table 2 presents the first 5 venues of dataset returned.\n",
    "\n",
    " |**Neighborhood**|**Neighborhood Latitude**|**Neighborhood Longitude**|**Venue**|**Venue Latitude**|**Venue Longitude**|**Venue Category**\n",
    ":-----:|:-----:|:-----:|:-----:|:-----:|:-----:|:-----:|:-----:\n",
    "|0|Marble Hill|40.876551|-73.91066|Arturo's|40.874412|-73.910271|Pizza Place|\n",
    "|1|Marble Hill|40.876551|-73.91066|Bikram Yoga|40.876844|-73.906204|Yoga Studio|\n",
    "|2|Marble Hill|40.876551|-73.91066|Tibbett Diner|40.880404|-73.908937|Diner|\n",
    "|3|Marble Hill|40.876551|-73.91066|Starbucks|40.877531|-73.905582|Coffee Shop|\n",
    "|4|Marble Hill|40.876551|-73.91066|Dunkin'|40.877136|-73.906666|Donut Shop|\n",
    "\n",
    "Now, the venue categories feature is used to group the neighborhoods into clusters. The k-means clustering algorithm is employed to perform this task. Finally, the Folium library is utilized to visualize the neighborhoods in Manhattan borough and their emerging clusters.\n",
    "Results and Discussion below tables shows the statistics\n",
    "\n",
    "| Statistics    | No of Venues |\n",
    "|---------------|--------------|\n",
    "|count|40.000000|\n",
    "|mean|83.225000|\n",
    "|std|26.420163|\n",
    "|min|18.000000|\n",
    "|25%|62.000000|\n",
    "|50%|100.000000|\n",
    "|75%|100.000000|\n",
    "|max|100.000000|\n",
    "\n",
    "From above Table, we can see that the minimum number of venues return for the neighborhoods is 18, an average of 83.22 and a maximum of 100 which is the limit. The 10 most common venue categories feature is used for the K-means clustering analyze for grouping the neighborhoods based on their characteristics and the result is shown in below.\n",
    "\n",
    "<img src=\"ManhattanNeighbourHoodCluster.png\" />\n",
    " \n",
    " To find suitable locations to recommend for new Indian/Asian restaurant, we examine each cluster in order to recommend the best location in each neighborhood. For example, Greenwich Village belongs to cluster 2 would be the best location as it shows less number of Asian restaurants. This cluster generally has lots of casual and formal dining restaurants which would be ideal for food lovers. \n",
    "#### Conclusion\n",
    "This project explores Manhattan borough neighborhoods using the Foursquare API and utilizes K-means machine learning algorithm to group neighborhoods into clusters. These clusters are based on the 10 most common venue categories feature extracted from Foursquare location data. This information was being used to find a best venue using K-means clustering analysis to come best decision. \n",
    "\n",
    "NewYork restaurant and City data being used to complete the validation analysis\n",
    "\n",
    "Thank you for reading my project."
   ]
  },
  {
   "cell_type": "markdown",
   "metadata": {},
   "source": []
  },
  {
   "cell_type": "code",
   "execution_count": null,
   "metadata": {},
   "outputs": [],
   "source": []
  }
 ],
 "metadata": {
  "kernelspec": {
   "display_name": "Python",
   "language": "python",
   "name": "conda-env-python-py"
  },
  "language_info": {
   "codemirror_mode": {
    "name": "ipython",
    "version": 3
   },
   "file_extension": ".py",
   "mimetype": "text/x-python",
   "name": "python",
   "nbconvert_exporter": "python",
   "pygments_lexer": "ipython3",
   "version": "3.6.7"
  }
 },
 "nbformat": 4,
 "nbformat_minor": 4
}
